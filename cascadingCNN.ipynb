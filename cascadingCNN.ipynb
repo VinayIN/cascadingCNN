{
 "cells": [
  {
   "cell_type": "markdown",
   "metadata": {},
   "source": [
    "# Get the .mha files into 4 list\n",
    "list_1=T1 modality<br>\n",
    "list_2=T2 modality<br>\n",
    "list_3=T1C modality<br>\n",
    "list_4=Flair modality<br>"
   ]
  },
  {
   "cell_type": "code",
   "execution_count": null,
   "metadata": {},
   "outputs": [],
   "source": []
  },
  {
   "cell_type": "markdown",
   "metadata": {},
   "source": [
    "## Preprocess BRATS2013 dataset"
   ]
  },
  {
   "cell_type": "code",
   "execution_count": 1,
   "metadata": {},
   "outputs": [],
   "source": [
    "import SimpleITK as sitk "
   ]
  },
  {
   "cell_type": "markdown",
   "metadata": {},
   "source": [
    "### Processing a sample \"*file.mha*\""
   ]
  },
  {
   "cell_type": "code",
   "execution_count": 2,
   "metadata": {},
   "outputs": [],
   "source": [
    "data=sitk.ReadImage('file.mha')\n",
    "data_array=sitk.GetArrayFromImage(data)"
   ]
  },
  {
   "cell_type": "code",
   "execution_count": 3,
   "metadata": {},
   "outputs": [
    {
     "name": "stdout",
     "output_type": "stream",
     "text": [
      "Image Dimension: (162, 230, 230)\n",
      "Height: 230\n",
      "Width: 162\n",
      "Depth: 230\n",
      "datatype: int16\n",
      "Image data Array Dim: (230, 230, 162)\n"
     ]
    }
   ],
   "source": [
    "####### Image Data ########\n",
    "print(\"Image Dimension: {}\".format(data.GetSize()))\n",
    "print(\"Height: {}\".format(data.GetHeight()))\n",
    "print(\"Width: {}\".format(data.GetWidth()))\n",
    "print(\"Depth: {}\".format(data.GetDepth()))\n",
    "\n",
    "###### Data Array #########\n",
    "print(\"datatype: {}\".format(data_array.dtype))\n",
    "print(\"Image data Array Dim: {}\".format(data_array.shape))"
   ]
  },
  {
   "cell_type": "code",
   "execution_count": 4,
   "metadata": {},
   "outputs": [
    {
     "name": "stdout",
     "output_type": "stream",
     "text": [
      "230\n",
      "230\n"
     ]
    }
   ],
   "source": [
    "import matplotlib.pyplot as plt\n",
    "%matplotlib inline\n",
    "image2D_list=[data_array[i,:,:] for i in range(data.GetDepth())]\n",
    "\n",
    "print(len(image2D_list))\n",
    "print(data.GetDepth())"
   ]
  },
  {
   "cell_type": "markdown",
   "metadata": {},
   "source": [
    "## Display image2D_list"
   ]
  },
  {
   "cell_type": "code",
   "execution_count": 25,
   "metadata": {},
   "outputs": [
    {
     "data": {
      "text/plain": [
       "<matplotlib.image.AxesImage at 0x11f9255f8>"
      ]
     },
     "execution_count": 25,
     "metadata": {},
     "output_type": "execute_result"
    },
    {
     "data": {
      "image/png": "[encoded data removed]",
      "text/plain": [
       "<Figure size 432x288 with 1 Axes>"
      ]
     },
     "metadata": {},
     "output_type": "display_data"
    }
   ],
   "source": [
    "plt.imshow(image2D_list[115], cmap=\"gray\")"
   ]
  },
  {
   "cell_type": "markdown",
   "metadata": {},
   "source": [
    "## prepare 4 dictionary of Array_Image each for T1,T2,T1C,Flair."
   ]
  },
  {
   "cell_type": "code",
   "execution_count": null,
   "metadata": {},
   "outputs": [],
   "source": []
  },
  {
   "cell_type": "code",
   "execution_count": 14,
   "metadata": {},
   "outputs": [],
   "source": [
    "import numpy as np\n",
    "height=230\n",
    "width=162\n",
    "num_channels=1 ### greyscale\n",
    "def reformat(image_rgb):\n",
    "    return (image_rgb.reshape((-1,height,width,num_channels)).astype(np.int16))"
   ]
  },
  {
   "cell_type": "markdown",
   "metadata": {},
   "source": [
    "## Dataset Preparation"
   ]
  },
  {
   "cell_type": "markdown",
   "metadata": {},
   "source": [
    "### 2D input patch [4 channels X height X width] is prepared.\n",
    "The 2D slices of these channels = T1, T2, T1C, Flair are feeded once in the model successively.\n"
   ]
  },
  {
   "cell_type": "code",
   "execution_count": 5,
   "metadata": {},
   "outputs": [],
   "source": [
    "######### suffle dictionary #########\n",
    "def suffle_dict(dict_T1,dict_T2,dict_T1C,dict_flair):\n",
    "    pass\n",
    "\n",
    "\n",
    "########## prepare dataset ##########\n",
    "def prepare(dict_T1,dict_T2,dict_T1C,dict_flair):\n",
    "    pass\n",
    "\n",
    "\n",
    "########## split into train, validation and test dataset ######\n",
    "def split(dataset):\n",
    "    pass"
   ]
  },
  {
   "cell_type": "markdown",
   "metadata": {},
   "source": [
    "## Start building the MODEL architecture"
   ]
  },
  {
   "cell_type": "code",
   "execution_count": null,
   "metadata": {},
   "outputs": [],
   "source": []
  }
 ],
 "metadata": {
  "kernelspec": {
   "display_name": "Python 3",
   "language": "python",
   "name": "python3"
  },
  "language_info": {
   "codemirror_mode": {
    "name": "ipython",
    "version": 3
   },
   "file_extension": ".py",
   "mimetype": "text/x-python",
   "name": "python",
   "nbconvert_exporter": "python",
   "pygments_lexer": "ipython3",
   "version": "3.6.4"
  }
 },
 "nbformat": 4,
 "nbformat_minor": 2
}
